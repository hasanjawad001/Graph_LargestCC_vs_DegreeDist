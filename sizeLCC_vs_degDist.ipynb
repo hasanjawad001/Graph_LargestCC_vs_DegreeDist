{
 "cells": [
  {
   "cell_type": "code",
   "execution_count": 22,
   "metadata": {},
   "outputs": [],
   "source": [
    "import networkx as nx\n",
    "#import matplotlib.pyplot as plt\n",
    "import numpy as np\n",
    "import matplotlib\n",
    "import matplotlib.pyplot as plt\n",
    "import matplotlib.gridspec as gridspec"
   ]
  },
  {
   "cell_type": "code",
   "execution_count": null,
   "metadata": {},
   "outputs": [],
   "source": [
    "n = 100000\n",
    "list_p = [i/(20*n) for i in range(10,61,1)]\n",
    "list_x = []\n",
    "for p in list_p:\n",
    "    list_x.append(p*(n-1))\n",
    "#print(list_x)\n",
    "list_y = []\n",
    "for p in list_p:\n",
    "    G = nx.gnp_random_graph(n, p, seed=123, directed=False)\n",
    "    nx.draw(G)\n",
    "    list_y.append(G.number_of_edges)"
   ]
  },
  {
   "cell_type": "code",
   "execution_count": null,
   "metadata": {},
   "outputs": [
    {
     "name": "stdout",
     "output_type": "stream",
     "text": [
      "[0.499995, 0.5499944999999999, 0.599994, 0.6499935, 0.699993, 0.7499925000000001, 0.7999919999999999, 0.8499915, 0.899991, 0.9499905000000001, 0.99999, 1.0499895, 1.0999889999999999, 1.1499885, 1.199988, 1.2499875, 1.299987, 1.3499865, 1.399986, 1.4499855, 1.4999850000000001, 1.5499845, 1.5999839999999999, 1.6499835, 1.699983, 1.7499824999999998, 1.799982, 1.8499815, 1.8999810000000001, 1.9499805, 1.99998, 2.0499795, 2.099979, 2.1499785, 2.1999779999999998, 2.2499775, 2.299977, 2.3499765, 2.399976, 2.4499755, 2.499975, 2.5499745, 2.599974, 2.6499735, 2.699973, 2.7499725, 2.799972, 2.8499715, 2.899971, 2.9499705, 2.9999700000000002]\n"
     ]
    }
   ],
   "source": [
    "for p in pvals:\n",
    "    G = nx.binomial_graph(n, p)\n",
    "    pos = layout(G)\n",
    "    region += 1\n",
    "    plt.subplot(region)\n",
    "    plt.title(f\"p = {p:.3f}\")\n",
    "    nx.draw(G, pos, with_labels=False, node_size=10)\n",
    "    # identify largest connected component\n",
    "    Gcc = sorted(nx.connected_components(G), key=len, reverse=True)\n",
    "    G0 = G.subgraph(Gcc[0])\n",
    "    nx.draw_networkx_edges(G0, pos, edge_color=\"r\", width=6.0)\n",
    "    # show other connected components\n",
    "    for Gi in Gcc[1:]:\n",
    "        if len(Gi) > 1:\n",
    "            nx.draw_networkx_edges(\n",
    "                G.subgraph(Gi), pos, edge_color=\"r\", alpha=0.3, width=5.0,"
   ]
  },
  {
   "cell_type": "code",
   "execution_count": null,
   "metadata": {},
   "outputs": [],
   "source": []
  },
  {
   "cell_type": "code",
   "execution_count": null,
   "metadata": {},
   "outputs": [],
   "source": []
  }
 ],
 "metadata": {
  "kernelspec": {
   "display_name": "Python 3",
   "language": "python",
   "name": "python3"
  },
  "language_info": {
   "name": ""
  }
 },
 "nbformat": 4,
 "nbformat_minor": 4
}
